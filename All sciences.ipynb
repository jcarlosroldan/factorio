{
 "cells": [
  {
   "cell_type": "markdown",
   "metadata": {},
   "source": [
    "# Perfect all Factorio sciences grid\n",
    "\n",
    "The goal of this notebook is to find the simplest grid that produces 1 unit/second of each of the Nauvis science packs, minimizing bot travel distance. Then, it generates a blueprint string to paste it into Factorio."
   ]
  },
  {
   "cell_type": "code",
   "execution_count": 148,
   "metadata": {},
   "outputs": [],
   "source": [
    "from base64 import b64encode\n",
    "from collections import defaultdict\n",
    "from json import dumps\n",
    "from math import ceil\n",
    "from matplotlib import pyplot as plt\n",
    "from random import randint, random, shuffle\n",
    "from zlib import compress"
   ]
  },
  {
   "cell_type": "markdown",
   "metadata": {},
   "source": [
    "Now, let's define all recipes involved. I'm not using the actual game ids (i.e. automation-science-pack) because they are much longer than my invented names (i.e. red_science)."
   ]
  },
  {
   "cell_type": "code",
   "execution_count": 141,
   "metadata": {},
   "outputs": [],
   "source": [
    "RECIPES = {\n",
    "\t'red_science': {'amount': 1, 'seconds': 5, 'ingredients': {'copper_plate': 1, 'gear': 1}},\n",
    "\t'gear': {'amount': 1, 'seconds': .5, 'ingredients': {'iron_plate': 2}},\n",
    "\t'green_science': {'amount': 1, 'seconds': 6, 'ingredients': {'transport_belt': 1, 'inserter': 1}},\n",
    "\t'transport_belt': {'amount': 2, 'seconds': .5, 'ingredients': {'iron_plate': 1, 'gear': 1}},\n",
    "\t'inserter': {'amount': 1, 'seconds': .5, 'ingredients': {'iron_plate': 1, 'gear': 1, 'green_circuit': 1}},\n",
    "\t'green_circuit': {'amount': 1, 'seconds': .5, 'ingredients': {'iron_plate': 1, 'copper_cable': 3}},\n",
    "\t'copper_cable': {'amount': 2, 'seconds': .5, 'ingredients': {'copper_plate': 1}},\n",
    "\t'black_science': {'amount': 2, 'seconds': 10, 'ingredients': {'piercing_red': 1, 'grenade': 1, 'wall': 2}},\n",
    "\t'piercing_red': {'amount': 1, 'seconds': 3, 'ingredients': {'copper_cable': 5, 'steel_plate': 1, 'piercing_yellow': 1}},\n",
    "\t'piercing_yellow': {'amount': 1, 'seconds': 1, 'ingredients': {'iron_plate': 4}},\n",
    "\t'grenade': {'amount': 1, 'seconds': 8, 'ingredients': {'coal': 10, 'iron_plate': 5}},\n",
    "\t'wall': {'amount': 1, 'seconds': .5, 'ingredients': {'stone_brick': 5}},\n",
    "\t'blue_science': {'amount': 2, 'seconds': 24, 'ingredients': {'sulfur': 1, 'red_circuit': 3, 'engine': 2}},\n",
    "\t'red_circuit': {'amount': 1, 'seconds': 6, 'ingredients': {'plastic': 2, 'copper_cable': 4, 'green_circuit': 2}},\n",
    "\t'engine': {'amount': 1, 'seconds': 10, 'ingredients': {'steel_plate': 1, 'gear': 1, 'pipe': 2}},\n",
    "\t'pipe': {'amount': 1, 'seconds': .5, 'ingredients': {'steel_plate': 1}},\n",
    "\t'pink_science': {'amount': 3, 'seconds': 21, 'ingredients': {'rail': 30, 'electric_furnace': 1, 'red_module': 1}},\n",
    "\t'rail': {'amount': 2, 'seconds': .5, 'ingredients': {'stone': 1, 'steel_plate': 1, 'iron_stick': 1}},\n",
    "\t'iron_stick': {'amount': 2, 'seconds': .5, 'ingredients': {'iron_plate': 1}},\n",
    "\t'electric_furnace': {'amount': 1, 'seconds': 5, 'ingredients': {'steel_plate': 10, 'red_circuit': 5, 'stone_brick': 10}},\n",
    "\t'red_module': {'amount': 1, 'seconds': 15, 'ingredients': {'green_circuit': 5, 'red_circuit': 5}},\n",
    "\t'yellow_science': {'amount': 3, 'seconds': 21, 'ingredients': {'blue_circuit': 2, 'robot_frame': 1, 'ld_structure': 3}},\n",
    "\t'blue_circuit': {'amount': 1, 'seconds': 10, 'ingredients': {'green_circuit': 20, 'red_circuit': 2, 'sulfuric_acid': 5}},\n",
    "\t'robot_frame': {'amount': 1, 'seconds': 20, 'ingredients': {'steel_plate': 1, 'battery': 2, 'green_circuit': 3, 'electric_engine': 1}},\n",
    "\t'electric_engine': {'amount': 1, 'seconds': 10, 'ingredients': {'green_circuit': 2, 'engine': 1, 'lubricant': 15}},\n",
    "\t'ld_structure': {'amount': 1, 'seconds': 15, 'ingredients': {'copper_plate': 20, 'steel_plate': 2, 'plastic': 5}}\n",
    "}\n",
    "\n",
    "SOURCES = {\n",
    "\t'minining': ('coal', 'stone'),\n",
    "\t'furnace': ('iron_plate', 'copper_plate', 'steel_plate', 'stone_brick'),\n",
    "\t'liquid': ('sulfuric_acid', 'lubricant'),\n",
    "\t'refinery': ('sulfur', 'plastic', 'battery')\n",
    "}\n",
    "\n",
    "INGAME_IDS = {\n",
    "\t'red_science': 'automation-science-pack',\n",
    "\t'gear': 'iron-gear-wheel',\n",
    "\t'green_science': 'logistic-science-pack',\n",
    "\t'transport_belt': 'transport-belt',\n",
    "\t'inserter': 'inserter',\n",
    "\t'green_circuit': 'electronic-circuit',\n",
    "\t'copper_cable': 'copper-cable',\n",
    "\t'black_science': 'military-science-pack',\n",
    "\t'piercing_red': 'piercing-rounds-magazine',\n",
    "\t'piercing_yellow': 'firearm-magazine',\n",
    "\t'grenade': 'grenade',\n",
    "\t'wall': 'stone-wall',\n",
    "\t'blue_science': 'chemical-science-pack',\n",
    "\t'red_circuit': 'advanced-circuit',\n",
    "\t'engine': 'engine-unit',\n",
    "\t'pipe': 'pipe',\n",
    "\t'pink_science': 'production-science-pack',\n",
    "\t'rail': 'rail',\n",
    "\t'iron_stick': 'iron-stick',\n",
    "\t'electric_furnace': 'electric-furnace',\n",
    "\t'red_module': 'productivity-module',\n",
    "\t'yellow_science': 'utility-science-pack',\n",
    "\t'blue_circuit': 'processing-unit',\n",
    "\t'robot_frame': 'flying-robot-frame',\n",
    "\t'electric_engine': 'electric-engine-unit',\n",
    "\t'ld_structure': 'low-density-structure'\n",
    "}"
   ]
  },
  {
   "cell_type": "markdown",
   "metadata": {},
   "source": [
    "Let's add an extra recipe that requires 1 unit per second of each science since that's what we want to build."
   ]
  },
  {
   "cell_type": "code",
   "execution_count": 3,
   "metadata": {},
   "outputs": [
    {
     "data": {
      "text/plain": [
       "{'amount': 1,\n",
       " 'seconds': 1,\n",
       " 'ingredients': {'red_science': 1,\n",
       "  'green_science': 1,\n",
       "  'black_science': 1,\n",
       "  'blue_science': 1,\n",
       "  'pink_science': 1,\n",
       "  'yellow_science': 1}}"
      ]
     },
     "execution_count": 3,
     "metadata": {},
     "output_type": "execute_result"
    }
   ],
   "source": [
    "RECIPES['all_nauvis_science'] = {'amount': 1, 'seconds': 1, 'ingredients': {\n",
    "\t('%s_science' % color): 1\n",
    "\tfor color in ('red', 'green', 'black', 'blue', 'pink', 'yellow')\n",
    "}}\n",
    "RECIPES['all_nauvis_science']"
   ]
  },
  {
   "cell_type": "markdown",
   "metadata": {},
   "source": [
    "We'll need a way to combine two lists of ingredients adding their amounts to a total."
   ]
  },
  {
   "cell_type": "code",
   "execution_count": 4,
   "metadata": {},
   "outputs": [
    {
     "data": {
      "text/plain": [
       "{'a': 1, 'b': 5, 'c': 4}"
      ]
     },
     "execution_count": 4,
     "metadata": {},
     "output_type": "execute_result"
    }
   ],
   "source": [
    "def merge_lists(list1, list2):  # merge {<str>: <float|int>} dict keys adding the values and preserving the order\n",
    "\tres = list1.copy()\n",
    "\tfor k, v in list2.items():\n",
    "\t\tres[k] = res.get(k, 0) + v\n",
    "\treturn res\n",
    "\n",
    "merge_lists({'a': 1, 'b': 2}, {'b': 3, 'c': 4})"
   ]
  },
  {
   "cell_type": "markdown",
   "metadata": {},
   "source": [
    "Now, let's make a method that given an `item`, returns the assemblers and raw material throughputs required to sustain a certain production `rate`."
   ]
  },
  {
   "cell_type": "code",
   "execution_count": 5,
   "metadata": {},
   "outputs": [
    {
     "data": {
      "text/plain": [
       "(defaultdict(int,\n",
       "             {'green_science': 6.0,\n",
       "              'transport_belt': 0.25,\n",
       "              'gear': 0.75,\n",
       "              'inserter': 0.5,\n",
       "              'green_circuit': 0.5,\n",
       "              'copper_cable': 0.75}),\n",
       " defaultdict(int, {'iron_plate': 5.5, 'copper_plate': 1.5}))"
      ]
     },
     "execution_count": 5,
     "metadata": {},
     "output_type": "execute_result"
    }
   ],
   "source": [
    "def full_recipe(item, rate=1):  # rate is the desired units per second of item\n",
    "\trecipe = RECIPES[item]\n",
    "\ttotal_assemblers = defaultdict(int, {item: rate * recipe['seconds'] / recipe['amount']})\n",
    "\ttotal_raw = defaultdict(int, {})\n",
    "\tfor ingredient, amount in recipe['ingredients'].items():\n",
    "\t\tif ingredient in RECIPES:\n",
    "\t\t\tassemblers, raw = full_recipe(ingredient, amount * rate / recipe['amount'])\n",
    "\t\t\ttotal_assemblers = merge_lists(total_assemblers, assemblers)\n",
    "\t\t\ttotal_raw = merge_lists(total_raw, raw)\n",
    "\t\telse:\n",
    "\t\t\ttotal_raw[ingredient] += amount * rate / recipe['amount']\n",
    "\treturn total_assemblers, total_raw\n",
    "\n",
    "full_recipe('green_science', 1)"
   ]
  },
  {
   "cell_type": "markdown",
   "metadata": {},
   "source": [
    "So let's run it and visualize what are the required assemblers and raw materials:"
   ]
  },
  {
   "cell_type": "code",
   "execution_count": 6,
   "metadata": {},
   "outputs": [
    {
     "name": "stdout",
     "output_type": "stream",
     "text": [
      "Total assemblers: 197 (grid_blocks=1, empty_blocks=1)\n",
      "    red_science         5 (5.0000)\n",
      "    gear                2 (1.9167)\n",
      "    green_science       6 (6.0000)\n",
      "    transport_belt      1 (0.2500)\n",
      "    inserter            1 (0.5000)\n",
      "    green_circuit       15 (15.0000)\n",
      "    copper_cable        30 (29.2917)\n",
      "    black_science       5 (5.0000)\n",
      "    piercing_red        2 (1.5000)\n",
      "    piercing_yellow     1 (0.5000)\n",
      "    grenade             4 (4.0000)\n",
      "    wall                1 (0.5000)\n",
      "    blue_science        12 (12.0000)\n",
      "    red_circuit         37 (37.0000)\n",
      "    engine              14 (13.3333)\n",
      "    pipe                2 (1.3333)\n",
      "    pink_science        7 (7.0000)\n",
      "    rail                3 (2.5000)\n",
      "    iron_stick          2 (1.2500)\n",
      "    electric_furnace    2 (1.6667)\n",
      "    red_module          5 (5.0000)\n",
      "    yellow_science      7 (7.0000)\n",
      "    blue_circuit        7 (6.6667)\n",
      "    robot_frame         7 (6.6667)\n",
      "    electric_engine     4 (3.3333)\n",
      "    ld_structure        15 (15.0000)\n",
      "Raw materials:\n",
      "    copper_plate        80 (79.5833)\n",
      "    iron_plate          47 (46.1667)\n",
      "    steel_plate         16 (15.1667)\n",
      "    coal                5 (5.0000)\n",
      "    stone_brick         9 (8.3333)\n",
      "    sulfur              1 (0.5000)\n",
      "    plastic             18 (17.3333)\n",
      "    stone               5 (5.0000)\n",
      "    sulfuric_acid       4 (3.3333)\n",
      "    battery             1 (0.6667)\n",
      "    lubricant           5 (5.0000)\n"
     ]
    }
   ],
   "source": [
    "ROWS, COLS = 11, 18\n",
    "SIZE = ROWS * COLS\n",
    "assemblers, raw = full_recipe('all_nauvis_science', 1)\n",
    "del assemblers['all_nauvis_science']\n",
    "total_assemblers = sum(ceil(amount) for amount in assemblers.values())\n",
    "grid_blocks = ceil(total_assemblers / SIZE)\n",
    "print(f'Total assemblers: {total_assemblers} ({grid_blocks=}, empty_blocks={grid_blocks * SIZE - total_assemblers})')\n",
    "for item, amount in assemblers.items():\n",
    "\tprint(f'    {item.ljust(20)}{ceil(amount)} ({amount:.4f})')\n",
    "print('Raw materials:')\n",
    "for item, amount in raw.items():\n",
    "\tprint(f'    {item.ljust(20)}{ceil(amount)} ({amount:.4f})')"
   ]
  },
  {
   "cell_type": "markdown",
   "metadata": {},
   "source": [
    "Now let's make it into a grid of 18 x 11 assemblers, ensuring that the ones that process liquids are at the bottom."
   ]
  },
  {
   "cell_type": "code",
   "execution_count": 7,
   "metadata": {},
   "outputs": [
    {
     "name": "stdout",
     "output_type": "stream",
     "text": [
      "Liquid assemblers:\n",
      "    blue_circuit: 7\n",
      "    electric_engine: 4\n"
     ]
    }
   ],
   "source": [
    "grid = []\n",
    "for item, amount in assemblers.items():\n",
    "\tfor _ in range(ceil(amount)):\n",
    "\t\tgrid.append(item)\n",
    "\n",
    "liquid_assemblers = [item for item in grid if any(ingredient in SOURCES['liquid'] for ingredient in RECIPES[item]['ingredients'])]\n",
    "dry_assemblers = [item for item in grid if item not in liquid_assemblers]\n",
    "print(f'Liquid assemblers:')\n",
    "for item in set(liquid_assemblers):\n",
    "\tprint(f'    {item}: {liquid_assemblers.count(item)}')\n",
    "shuffle(dry_assemblers)\n",
    "grid = dry_assemblers + [None] * (SIZE - len(grid)) + liquid_assemblers"
   ]
  },
  {
   "cell_type": "markdown",
   "metadata": {},
   "source": [
    "The current distribution, after shuffling all non-liquid assemblers is as follows:"
   ]
  },
  {
   "cell_type": "code",
   "execution_count": 145,
   "metadata": {},
   "outputs": [
    {
     "name": "stdout",
     "output_type": "stream",
     "text": [
      "row \\ col     0          1          2          3          4          5          6          7          8          9          10         11         12         13         14         15         16         17    \n",
      "    0         -      iron_stick pink_scien green_scie transport_ piercing_y green_scie copper_cab copper_cab red_circui electric_f electric_f blue_scien   engine   blue_scien   engine     engine      pipe   \n",
      "    1     iron_stick pink_scien    rail    pink_scien green_scie piercing_r copper_cab copper_cab red_circui red_circui red_circui red_circui red_circui blue_scien blue_scien blue_scien   engine     engine  \n",
      "    2     green_scie    rail       rail    pink_scien green_scie copper_cab red_circui copper_cab red_circui copper_cab copper_cab red_circui red_circui red_circui blue_scien blue_scien   engine     engine  \n",
      "    3     green_scie pink_scien pink_scien pink_scien piercing_r copper_cab copper_cab red_circui copper_cab red_circui copper_cab copper_cab copper_cab red_circui blue_scien blue_scien   engine      pipe   \n",
      "    4      grenade    grenade   black_scie black_scie copper_cab copper_cab red_circui copper_cab red_circui red_circui red_circui red_circui red_circui copper_cab red_circui blue_scien   engine     engine  \n",
      "    5     black_scie    wall    black_scie  inserter  copper_cab copper_cab red_circui copper_cab copper_cab red_circui red_circui red_module red_circui red_circui red_circui blue_scien   engine     engine  \n",
      "    6      grenade   black_scie ld_structu ld_structu ld_structu red_circui red_circui red_circui red_circui red_module red_module red_module red_circui copper_cab red_circui blue_scien   engine      gear   \n",
      "    7      grenade   ld_structu ld_structu ld_structu yellow_sci copper_cab red_circui copper_cab red_circui green_circ green_circ red_module red_circui red_circui copper_cab   engine   red_scienc    gear   \n",
      "    8     ld_structu ld_structu yellow_sci yellow_sci yellow_sci copper_cab copper_cab green_circ green_circ green_circ green_circ green_circ green_circ copper_cab copper_cab red_scienc red_scienc red_scienc\n",
      "    9     ld_structu ld_structu yellow_sci yellow_sci yellow_sci robot_fram robot_fram green_circ green_circ green_circ green_circ green_circ green_circ green_circ robot_fram robot_fram robot_fram red_scienc\n",
      "    10    ld_structu ld_structu ld_structu ld_structu ld_structu robot_fram robot_fram blue_circu blue_circu blue_circu blue_circu blue_circu blue_circu blue_circu electric_e electric_e electric_e electric_e\n"
     ]
    }
   ],
   "source": [
    "def print_grid(grid):\n",
    "\tprint('row \\\\ col'.center(10) + ' '.join(str(i).center(10) for i in range(COLS)))\n",
    "\tfor row in range(ROWS):\n",
    "\t\tprint(str(row).center(10) + ' '.join((grid[row * COLS + col] or \"-\")[:10].center(10) for col in range(COLS)))\n",
    "\n",
    "print_grid(grid)"
   ]
  },
  {
   "cell_type": "markdown",
   "metadata": {},
   "source": [
    "## Optimal placement\n",
    "\n",
    "Now we want to find the best distribution that minimizes bot travel distance. For this, we will define a loss function that is represented by the distance from each assembler to all their required materials, weighted by how often this trip is done. For raw materials, we'll assume that they are all placed at the top center, and for research labs at the bottom center."
   ]
  },
  {
   "cell_type": "code",
   "execution_count": 9,
   "metadata": {},
   "outputs": [
    {
     "data": {
      "text/plain": [
       "11796.037750327596"
      ]
     },
     "execution_count": 9,
     "metadata": {},
     "output_type": "execute_result"
    }
   ],
   "source": [
    "def loss(grid):\n",
    "\treturn sum(penalty(grid, i) / RECIPES[item]['seconds'] for i in range(SIZE))\n",
    "\n",
    "def penalty(grid, position):\n",
    "\tr, c = position // COLS, position % COLS\n",
    "\tif (item := grid[position]) is None: return 0\n",
    "\tres = 0\n",
    "\tfor ingredient, amount in RECIPES[item]['ingredients'].items():\n",
    "\t\tif item in RECIPES:\n",
    "\t\t\tres += distance_to_all(grid, r, c, ingredient) * amount\n",
    "\t\telse:\n",
    "\t\t\tres += distance(r, c, -1, COLS // 2) * amount\n",
    "\tif '_science' == item[-8:]:\n",
    "\t\tres += distance(r, c, ROWS, COLS // 2) * RECIPES[item]['amount']\n",
    "\treturn res\n",
    "\n",
    "\n",
    "def distance_to_all(grid, r, c, item):\n",
    "\tres = 0\n",
    "\tfor i, cell in enumerate(grid):\n",
    "\t\tif cell == item:\n",
    "\t\t\tres += distance(r, c, i // COLS, i % COLS)\n",
    "\treturn res\n",
    "\n",
    "def distance(r1, c1, r2, c2):\n",
    "\treturn ((r1 - r2)**2 + (c1 - c2)**2)**.5\n",
    "\n",
    "loss(grid)"
   ]
  },
  {
   "cell_type": "markdown",
   "metadata": {},
   "source": [
    "The loss on top is the initial one with this random distribution. Now we need a function that swaps two assemblers (only the non-liquid) and recomputes the loss. We will define the temperature, which is the chance of applying that change even if it results in a worse overall distribution."
   ]
  },
  {
   "cell_type": "code",
   "execution_count": 10,
   "metadata": {},
   "outputs": [
    {
     "data": {
      "text/plain": [
       "11796.037750327596"
      ]
     },
     "execution_count": 10,
     "metadata": {},
     "output_type": "execute_result"
    }
   ],
   "source": [
    "def mutate(grid, temperature=1):\n",
    "\tp1 = randint(0, SIZE - 1 -len(liquid_assemblers))\n",
    "\twhile True:\n",
    "\t\tp2 = randint(0, SIZE - 1 -len(liquid_assemblers))\n",
    "\t\tif p1 != p2: break\n",
    "\tbase = loss(grid)\n",
    "\tgrid_swapped = grid.copy()\n",
    "\tgrid_swapped[p1], grid_swapped[p2] = grid_swapped[p2], grid_swapped[p1]\n",
    "\tnew = loss(grid_swapped)\n",
    "\tif new < base or random() < temperature:\n",
    "\t\treturn grid_swapped, new\n",
    "\treturn grid, base\n",
    "\n",
    "grid, new_loss = mutate(grid, 0)\n",
    "new_loss"
   ]
  },
  {
   "cell_type": "markdown",
   "metadata": {},
   "source": [
    "Now, we can iteratively search for an optimal distribution by running the previous method while slowly decreasing the temperature. We will use an exponential decay rate."
   ]
  },
  {
   "cell_type": "code",
   "execution_count": 11,
   "metadata": {},
   "outputs": [
    {
     "data": {
      "text/plain": [
       "6991.268982905046"
      ]
     },
     "execution_count": 11,
     "metadata": {},
     "output_type": "execute_result"
    }
   ],
   "source": [
    "losses = []\n",
    "temperatures = []\n",
    "\n",
    "def train(grid, iterations, decay_rate=.001):\n",
    "\tfor it in range(iterations):\n",
    "\t\tt = decay_rate**(it / iterations) / (1 - decay_rate) - decay_rate\n",
    "\t\tgrid, grid_loss = mutate(grid, t)\n",
    "\t\ttemperatures.append(t)\n",
    "\t\tlosses.append(grid_loss)\n",
    "\treturn grid, grid_loss\n",
    "\n",
    "grid, grid_loss = train(grid, 10**6)\n",
    "grid_loss"
   ]
  },
  {
   "cell_type": "markdown",
   "metadata": {},
   "source": [
    "Once a good state is found, we'll run a few cycles of mutations with temperature 0 (only accepting better states) to improve a bit on the result."
   ]
  },
  {
   "cell_type": "code",
   "execution_count": 135,
   "metadata": {},
   "outputs": [
    {
     "data": {
      "text/plain": [
       "6980.368529644536"
      ]
     },
     "execution_count": 135,
     "metadata": {},
     "output_type": "execute_result"
    }
   ],
   "source": [
    "for _ in range(10000):\n",
    "\tgrid, new_loss = mutate(grid, 0)\n",
    "new_loss"
   ]
  },
  {
   "cell_type": "markdown",
   "metadata": {},
   "source": [
    "Let's see how the loss decreased over time."
   ]
  },
  {
   "cell_type": "code",
   "execution_count": 12,
   "metadata": {},
   "outputs": [
    {
     "data": {
      "image/png": "[encoded data removed]",
      "text/plain": [
       "<Figure size 640x480 with 2 Axes>"
      ]
     },
     "metadata": {},
     "output_type": "display_data"
    }
   ],
   "source": [
    "plt.subplot(2, 1, 1)\n",
    "plt.plot(losses)\n",
    "plt.subplot(2, 1, 2)\n",
    "plt.plot(temperatures);"
   ]
  },
  {
   "cell_type": "markdown",
   "metadata": {},
   "source": [
    "And let's visualize the resulting distribution."
   ]
  },
  {
   "cell_type": "code",
   "execution_count": 146,
   "metadata": {},
   "outputs": [
    {
     "name": "stdout",
     "output_type": "stream",
     "text": [
      "row \\ col     0          1          2          3          4          5          6          7          8          9          10         11         12         13         14         15         16         17    \n",
      "    0         -      iron_stick pink_scien green_scie transport_ piercing_y green_scie copper_cab copper_cab red_circui electric_f electric_f blue_scien   engine   blue_scien   engine     engine      pipe   \n",
      "    1     iron_stick pink_scien    rail    pink_scien green_scie piercing_r copper_cab copper_cab red_circui red_circui red_circui red_circui red_circui blue_scien blue_scien blue_scien   engine     engine  \n",
      "    2     green_scie    rail       rail    pink_scien green_scie copper_cab red_circui copper_cab red_circui copper_cab copper_cab red_circui red_circui red_circui blue_scien blue_scien   engine     engine  \n",
      "    3     green_scie pink_scien pink_scien pink_scien piercing_r copper_cab copper_cab red_circui copper_cab red_circui copper_cab copper_cab copper_cab red_circui blue_scien blue_scien   engine      pipe   \n",
      "    4      grenade    grenade   black_scie black_scie copper_cab copper_cab red_circui copper_cab red_circui red_circui red_circui red_circui red_circui copper_cab red_circui blue_scien   engine     engine  \n",
      "    5     black_scie    wall    black_scie  inserter  copper_cab copper_cab red_circui copper_cab copper_cab red_circui red_circui red_module red_circui red_circui red_circui blue_scien   engine     engine  \n",
      "    6      grenade   black_scie ld_structu ld_structu ld_structu red_circui red_circui red_circui red_circui red_module red_module red_module red_circui copper_cab red_circui blue_scien   engine      gear   \n",
      "    7      grenade   ld_structu ld_structu ld_structu yellow_sci copper_cab red_circui copper_cab red_circui green_circ green_circ red_module red_circui red_circui copper_cab   engine   red_scienc    gear   \n",
      "    8     ld_structu ld_structu yellow_sci yellow_sci yellow_sci copper_cab copper_cab green_circ green_circ green_circ green_circ green_circ green_circ copper_cab copper_cab red_scienc red_scienc red_scienc\n",
      "    9     ld_structu ld_structu yellow_sci yellow_sci yellow_sci robot_fram robot_fram green_circ green_circ green_circ green_circ green_circ green_circ green_circ robot_fram robot_fram robot_fram red_scienc\n",
      "    10    ld_structu ld_structu ld_structu ld_structu ld_structu robot_fram robot_fram blue_circu blue_circu blue_circu blue_circu blue_circu blue_circu blue_circu electric_e electric_e electric_e electric_e\n"
     ]
    }
   ],
   "source": [
    "print_grid(grid)"
   ]
  },
  {
   "cell_type": "markdown",
   "metadata": {},
   "source": [
    "I don't want to place that grid in game manually, so let's create a blueprint. Factorio blueprints are just a JSON file, compressed and encoded in base64."
   ]
  },
  {
   "cell_type": "code",
   "execution_count": 151,
   "metadata": {},
   "outputs": [
    {
     "data": {
      "text/plain": [
       "'0eJy1neFuo0YUhd+F36YyzAAmr7KqVgRPnFExuAMkTaO8eyGpYUu4lc6dO792Nxs8n8b2xwHfk7xHj81obs62Q/TwHtnBXKOHX752iEw72MGaPnr48f71j7ef7Xh9NC56SA5RW13NdETV9+b62Nj2El+r+tm2Jk6ng29dPx3ctfNj/zV9/2/ZIXr7/PPj4/Dt4VLw4fQvD3eInKntbT7Yuq6N+8HWf0T3r/78c6yaaanpf9vOXasm2llegcsX+8vfXHce6/n74r62pq1NfKtQFo3u7HEfpukudt4KD5QMRVH7KIOr2v7WuSF+NM2AMeQoQ77P8GSdqdx1OvRS/T0di1EUKEUZ7Ek5gShpuo9Sd7ebcXFdPTbgZpQoQSZNkBxRhNM+QnV+qaan4RzX1tWjBV+bCWpBlexjmMbUg5teFk+ja6sa3Q3UnorQpycGalFFaLR+NldbV43HmyRBLaoJi5r2Mh8xtvBrA5WnJuQpsRuoRDUhUf5uoALVhED5BKg3M8Kbt/kPbGlUmHdLaJl0k6K21Pvri8SbFHVmsQ/jKtuAK6OaXJJVkH1AbbmEKy0eKVI4c+bEzljj6vlY143tuWeGrRTOneU+Dj9gpKgxl5Qlh4Aqc4lZWjLjpHDePAXBQB2qCIn6YShUpYpwqScGHDwJi3piwJfthFEFMo5CfaoJn0qwwOmT8KkEC5xDCZmyk5dCXZoRLuUTwJfv/wIU4qdahepU76Pg8UehBi2kVtaoNJfgVQQIXhq+damCvRo0HEnzfRZ+zNBwDi33EfxOJRpV5hK45HYCNeUSuGR3Ao6eJ/GdQH2pCGF6IKCeVIQoPZ8MOHYS1vTDyOAreMKgnhioOjWhToFck8HZk1KnAAucPQmHshNOhuozI/TJJ4Av2u+3147yn1vB9zsJFpHAkaE2LYLSoGJdP18MggPfG1UUjsi9pxzOqjnBwz/35XBCLeUZUL2uHzMeJU85OarW9cNGub2As+kpzF6gilWUYz32AlWrotzqwQDHU8qoHgzwdTylUc/XBOpPTflTIAcVcEwl5SkAA4dVyqLsTFSgEs0oieIfOhbwdf19afXfpS/OtNUZXR2+Ayq6OirKglj9aqe1Kvfm8zKEB5iOAWHgG6GKgOGbs4ADaC7PAKfOkmDws/cJnmNKxffihHpyTViyewEnzlMYDniMiTKnJweqUEU51JMDTp2UTT054It6SqQe7xV4jInyp+dewOmTdKh/0DrBEZSSKTtolahHM8qjfAT2RHwufpov2eP0G5Z+6KYDXqsG/MSvZA/UB9gM/kD9Bsa2vXHD9JjY+vwp+lzKWyV/il6OgT9Dn0u6s+QP0MvtBX+EXowhOfKH6EWfkOTIH6MXBuEP0m9A7vfGX6bHj6/T3/Fnhz9NL7wp/FF6YRD+RL0wCH+cfvvuFZjtP/JH63Oh7JMc+cP1cgzcKfv5PON9yymBK0maWF4g8iRwMakgYJruNT6btp811g9uUtro4J1hz90HoWHP3QehYU/eb2l8m2zsmXtpEPbkvTQIe/5eGoQ9gb8F8U8lcJVJUZb1Z4FrTYpSrgALeyBf+MUCl5w0JVuPKwu426Qpx/ruBnsQ/9tuCCQ1uNekKcfyUxJcbMoovX62ES+mcvHrszHgDaIEbjfdPTLr3j+twa0mTSwvEQLgblMREAZuOC1pLQgNe1h/SzMOc672StVw3WkJa1sYD7fCPaclqG0hPN0Kl5yWoCa5G+yZfendYE/tb0G+fghD19qai8Ke3pdHYU/xb1H8Ixrcf1KUZj1fKnAdSlOG9QVhj/MLvoPhCpSmpMoPRXAHSpNOHYfuWnnORCdwGSqj1OoX0uBG1CKSTD4KwL0oHRKGO9O/hRGIJXBVak1sAWDY8/wBYODa1BrYMjHBwaWpNbAJQrDH+bcQ3pkALkutkU0chT3YL4/Cnu2XR2GP+MujsCf95VHYA/+Sb2P2tL8gBFyR0pRVZdISXJfSlGCFeNhT/4F4uE2A2XbSwQnuUumQMNyewBZGIKvAxao1xQWAYfcEQsCwCwNbmKfm7asg+tgN8ZObHxNEYfcGxFHgrtWa6E7Cp0a4abUmOnEUdolAHoXdI5BHYVcJ5FHYbQJ5FHahQB6F3SuQ9wq7WiCPwi4WiKPARa2Msq1MpoNLW3e3qG8/kNw/RsHNLR0Shls9CALD7h4EoWE3EYLQsDsJWxr/dze7miCPwm4nbFFurqtN38+Hc35aNruhIMsBN7uWQCfMwe4oCHOwKwrCHOx6gjAHu50gzMEuJ2w5ll/CwP88E657aUqtEjDsfkIIGHZRwRfm90Nk6679+mVKvb200xenJf4PZlrOtmczn2/mw1+M6z/BsjwtdVlmOtFpmiQfH/8Al2JpPg=='"
      ]
     },
     "execution_count": 151,
     "metadata": {},
     "output_type": "execute_result"
    }
   ],
   "source": [
    "def make_blueprint(grid):\n",
    "\tentities = []\n",
    "\tfor i, item in enumerate(grid):\n",
    "\t\tentity = {\n",
    "\t\t\t'entity_number': i + 1,\n",
    "\t\t\t'name': 'assembling-machine-2',\n",
    "\t\t\t'position': {'x': (i % COLS) * 3 + 1.5, 'y': (i // COLS) * 3 + 1.5}\n",
    "\t\t}\n",
    "\t\tif item is not None:\n",
    "\t\t\tentity['recipe'] = INGAME_IDS[item]\n",
    "\t\t\tentity['recipe_quality'] = 'normal'\n",
    "\t\tentities.append(entity)\n",
    "\tres = {\n",
    "\t\t'blueprint': {\n",
    "\t\t\t'item': 'blueprint',\n",
    "\t\t\t'entities': entities,\n",
    "\t\t\t'icons': [{'signal': {'name': 'assembling-machine-2'}, 'index': 1}],\n",
    "\t\t\t'version': 562949954142211\n",
    "\t\t}\n",
    "\t}\n",
    "\tres = compress(dumps(res, separators=(',', ':')).encode('utf-8'))\n",
    "\treturn '0' + b64encode(res).decode('utf-8')\n",
    "\n",
    "make_blueprint(grid)"
   ]
  },
  {
   "cell_type": "markdown",
   "metadata": {},
   "source": [
    "Great! Now we can paste the previous string in the game and have a nice grid distribution. If you've read until here, feel free to add new recipes and change the ROWS and COLS to create your own grids for other purposes. Aside from this research block, I'm also using a utility block, a block of items that should be carried to new mines, a block of items to take to space..."
   ]
  }
 ],
 "metadata": {
  "kernelspec": {
   "display_name": "Python 3",
   "language": "python",
   "name": "python3"
  },
  "language_info": {
   "codemirror_mode": {
    "name": "ipython",
    "version": 3
   },
   "file_extension": ".py",
   "mimetype": "text/x-python",
   "name": "python",
   "nbconvert_exporter": "python",
   "pygments_lexer": "ipython3",
   "version": "3.11.8"
  }
 },
 "nbformat": 4,
 "nbformat_minor": 2
}
